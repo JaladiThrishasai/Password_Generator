{
 "cells": [
  {
   "cell_type": "code",
   "execution_count": 1,
   "id": "8e35620e",
   "metadata": {},
   "outputs": [
    {
     "name": "stdout",
     "output_type": "stream",
     "text": [
      "Password Generator\n",
      "Enter the desired length of the password: 5\n",
      "Generated Password: s?@2q\n"
     ]
    }
   ],
   "source": [
    "import random\n",
    "import string\n",
    "\n",
    "def generate_password(length):\n",
    "    # Define the character sets for the password\n",
    "    characters = string.ascii_letters + string.digits + string.punctuation\n",
    "    \n",
    "    # Ensure that the password length is at least 1\n",
    "    if length < 1:\n",
    "        return \"Password length must be at least 1.\"\n",
    "    \n",
    "    # Generate a random password of the specified length\n",
    "    password = ''.join(random.choice(characters) for _ in range(length))\n",
    "    return password\n",
    "\n",
    "def main():\n",
    "    print(\"Password Generator\")\n",
    "    \n",
    "    try:\n",
    "        # Prompt the user for the desired length of the password\n",
    "        length = int(input(\"Enter the desired length of the password: \"))\n",
    "        \n",
    "        # Generate and display the password\n",
    "        password = generate_password(length)\n",
    "        print(f\"Generated Password: {password}\")\n",
    "    \n",
    "    except ValueError:\n",
    "        print(\"Invalid input! Please enter a valid number.\")\n",
    "\n",
    "# Example Usage\n",
    "if __name__ == \"__main__\":\n",
    "    main()\n"
   ]
  },
  {
   "cell_type": "code",
   "execution_count": null,
   "id": "069a019d",
   "metadata": {},
   "outputs": [],
   "source": []
  }
 ],
 "metadata": {
  "kernelspec": {
   "display_name": "Python 3 (ipykernel)",
   "language": "python",
   "name": "python3"
  },
  "language_info": {
   "codemirror_mode": {
    "name": "ipython",
    "version": 3
   },
   "file_extension": ".py",
   "mimetype": "text/x-python",
   "name": "python",
   "nbconvert_exporter": "python",
   "pygments_lexer": "ipython3",
   "version": "3.11.5"
  }
 },
 "nbformat": 4,
 "nbformat_minor": 5
}
